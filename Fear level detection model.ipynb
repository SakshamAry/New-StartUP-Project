{
 "cells": [
  {
   "cell_type": "code",
   "execution_count": 1,
   "id": "de1e5b56",
   "metadata": {},
   "outputs": [],
   "source": [
    "import numpy as np\n",
    "import pandas as pd"
   ]
  },
  {
   "cell_type": "code",
   "execution_count": 63,
   "id": "45a1586a",
   "metadata": {},
   "outputs": [
    {
     "data": {
      "text/html": [
       "<div>\n",
       "<style scoped>\n",
       "    .dataframe tbody tr th:only-of-type {\n",
       "        vertical-align: middle;\n",
       "    }\n",
       "\n",
       "    .dataframe tbody tr th {\n",
       "        vertical-align: top;\n",
       "    }\n",
       "\n",
       "    .dataframe thead th {\n",
       "        text-align: right;\n",
       "    }\n",
       "</style>\n",
       "<table border=\"1\" class=\"dataframe\">\n",
       "  <thead>\n",
       "    <tr style=\"text-align: right;\">\n",
       "      <th></th>\n",
       "      <th>Subject_ID</th>\n",
       "      <th>Gender</th>\n",
       "      <th>Age</th>\n",
       "      <th>Session_ID</th>\n",
       "      <th>Exposure_Level</th>\n",
       "      <th>EEG_Alpha</th>\n",
       "      <th>EEG_Beta</th>\n",
       "      <th>EEG_Theta</th>\n",
       "      <th>GSR</th>\n",
       "      <th>HR</th>\n",
       "      <th>Fear_Level</th>\n",
       "      <th>Fear_Descriptions</th>\n",
       "    </tr>\n",
       "  </thead>\n",
       "  <tbody>\n",
       "    <tr>\n",
       "      <th>0</th>\n",
       "      <td>15</td>\n",
       "      <td>Male</td>\n",
       "      <td>50</td>\n",
       "      <td>1</td>\n",
       "      <td>4th Floor</td>\n",
       "      <td>56.840536</td>\n",
       "      <td>10.421743</td>\n",
       "      <td>61.180197</td>\n",
       "      <td>0.154523</td>\n",
       "      <td>71</td>\n",
       "      <td>2</td>\n",
       "      <td>Moderate Fear</td>\n",
       "    </tr>\n",
       "    <tr>\n",
       "      <th>1</th>\n",
       "      <td>26</td>\n",
       "      <td>Male</td>\n",
       "      <td>27</td>\n",
       "      <td>1</td>\n",
       "      <td>4th Floor</td>\n",
       "      <td>74.024139</td>\n",
       "      <td>14.168767</td>\n",
       "      <td>70.075022</td>\n",
       "      <td>0.160584</td>\n",
       "      <td>75</td>\n",
       "      <td>2</td>\n",
       "      <td>Moderate Fear</td>\n",
       "    </tr>\n",
       "    <tr>\n",
       "      <th>2</th>\n",
       "      <td>8</td>\n",
       "      <td>Female</td>\n",
       "      <td>50</td>\n",
       "      <td>2</td>\n",
       "      <td>6th Floor</td>\n",
       "      <td>77.883769</td>\n",
       "      <td>13.964466</td>\n",
       "      <td>98.852036</td>\n",
       "      <td>0.123244</td>\n",
       "      <td>99</td>\n",
       "      <td>2</td>\n",
       "      <td>Moderate Fear</td>\n",
       "    </tr>\n",
       "    <tr>\n",
       "      <th>3</th>\n",
       "      <td>26</td>\n",
       "      <td>Female</td>\n",
       "      <td>41</td>\n",
       "      <td>1</td>\n",
       "      <td>4th Floor</td>\n",
       "      <td>63.819817</td>\n",
       "      <td>14.458519</td>\n",
       "      <td>21.459801</td>\n",
       "      <td>0.123947</td>\n",
       "      <td>82</td>\n",
       "      <td>2</td>\n",
       "      <td>Moderate Fear</td>\n",
       "    </tr>\n",
       "    <tr>\n",
       "      <th>4</th>\n",
       "      <td>29</td>\n",
       "      <td>Female</td>\n",
       "      <td>50</td>\n",
       "      <td>2</td>\n",
       "      <td>6th Floor</td>\n",
       "      <td>60.454013</td>\n",
       "      <td>8.980365</td>\n",
       "      <td>78.520138</td>\n",
       "      <td>0.128515</td>\n",
       "      <td>77</td>\n",
       "      <td>2</td>\n",
       "      <td>Moderate Fear</td>\n",
       "    </tr>\n",
       "    <tr>\n",
       "      <th>...</th>\n",
       "      <td>...</td>\n",
       "      <td>...</td>\n",
       "      <td>...</td>\n",
       "      <td>...</td>\n",
       "      <td>...</td>\n",
       "      <td>...</td>\n",
       "      <td>...</td>\n",
       "      <td>...</td>\n",
       "      <td>...</td>\n",
       "      <td>...</td>\n",
       "      <td>...</td>\n",
       "      <td>...</td>\n",
       "    </tr>\n",
       "    <tr>\n",
       "      <th>4995</th>\n",
       "      <td>12</td>\n",
       "      <td>Female</td>\n",
       "      <td>50</td>\n",
       "      <td>2</td>\n",
       "      <td>1st Floor</td>\n",
       "      <td>92.605318</td>\n",
       "      <td>22.123740</td>\n",
       "      <td>35.215227</td>\n",
       "      <td>0.144018</td>\n",
       "      <td>74</td>\n",
       "      <td>3</td>\n",
       "      <td>High Fear</td>\n",
       "    </tr>\n",
       "    <tr>\n",
       "      <th>4996</th>\n",
       "      <td>16</td>\n",
       "      <td>Female</td>\n",
       "      <td>39</td>\n",
       "      <td>1</td>\n",
       "      <td>6th Floor</td>\n",
       "      <td>30.381435</td>\n",
       "      <td>9.738056</td>\n",
       "      <td>45.104997</td>\n",
       "      <td>0.150544</td>\n",
       "      <td>90</td>\n",
       "      <td>2</td>\n",
       "      <td>Moderate Fear</td>\n",
       "    </tr>\n",
       "    <tr>\n",
       "      <th>4997</th>\n",
       "      <td>30</td>\n",
       "      <td>Male</td>\n",
       "      <td>27</td>\n",
       "      <td>1</td>\n",
       "      <td>1st Floor</td>\n",
       "      <td>63.581709</td>\n",
       "      <td>5.578390</td>\n",
       "      <td>76.840675</td>\n",
       "      <td>0.146118</td>\n",
       "      <td>95</td>\n",
       "      <td>2</td>\n",
       "      <td>Moderate Fear</td>\n",
       "    </tr>\n",
       "    <tr>\n",
       "      <th>4998</th>\n",
       "      <td>30</td>\n",
       "      <td>Female</td>\n",
       "      <td>47</td>\n",
       "      <td>1</td>\n",
       "      <td>Rooftop</td>\n",
       "      <td>41.436781</td>\n",
       "      <td>25.665122</td>\n",
       "      <td>98.852036</td>\n",
       "      <td>0.134670</td>\n",
       "      <td>84</td>\n",
       "      <td>2</td>\n",
       "      <td>Moderate Fear</td>\n",
       "    </tr>\n",
       "    <tr>\n",
       "      <th>4999</th>\n",
       "      <td>30</td>\n",
       "      <td>Female</td>\n",
       "      <td>32</td>\n",
       "      <td>1</td>\n",
       "      <td>1st Floor</td>\n",
       "      <td>22.033530</td>\n",
       "      <td>9.276070</td>\n",
       "      <td>72.501554</td>\n",
       "      <td>0.138768</td>\n",
       "      <td>73</td>\n",
       "      <td>2</td>\n",
       "      <td>Moderate Fear</td>\n",
       "    </tr>\n",
       "  </tbody>\n",
       "</table>\n",
       "<p>5000 rows × 12 columns</p>\n",
       "</div>"
      ],
      "text/plain": [
       "      Subject_ID  Gender  Age  Session_ID Exposure_Level  EEG_Alpha  \\\n",
       "0             15    Male   50           1      4th Floor  56.840536   \n",
       "1             26    Male   27           1      4th Floor  74.024139   \n",
       "2              8  Female   50           2      6th Floor  77.883769   \n",
       "3             26  Female   41           1      4th Floor  63.819817   \n",
       "4             29  Female   50           2      6th Floor  60.454013   \n",
       "...          ...     ...  ...         ...            ...        ...   \n",
       "4995          12  Female   50           2      1st Floor  92.605318   \n",
       "4996          16  Female   39           1      6th Floor  30.381435   \n",
       "4997          30    Male   27           1      1st Floor  63.581709   \n",
       "4998          30  Female   47           1        Rooftop  41.436781   \n",
       "4999          30  Female   32           1      1st Floor  22.033530   \n",
       "\n",
       "       EEG_Beta  EEG_Theta       GSR  HR  Fear_Level Fear_Descriptions  \n",
       "0     10.421743  61.180197  0.154523  71           2     Moderate Fear  \n",
       "1     14.168767  70.075022  0.160584  75           2     Moderate Fear  \n",
       "2     13.964466  98.852036  0.123244  99           2     Moderate Fear  \n",
       "3     14.458519  21.459801  0.123947  82           2     Moderate Fear  \n",
       "4      8.980365  78.520138  0.128515  77           2     Moderate Fear  \n",
       "...         ...        ...       ...  ..         ...               ...  \n",
       "4995  22.123740  35.215227  0.144018  74           3         High Fear  \n",
       "4996   9.738056  45.104997  0.150544  90           2     Moderate Fear  \n",
       "4997   5.578390  76.840675  0.146118  95           2     Moderate Fear  \n",
       "4998  25.665122  98.852036  0.134670  84           2     Moderate Fear  \n",
       "4999   9.276070  72.501554  0.138768  73           2     Moderate Fear  \n",
       "\n",
       "[5000 rows x 12 columns]"
      ]
     },
     "execution_count": 63,
     "metadata": {},
     "output_type": "execute_result"
    }
   ],
   "source": [
    "data = pd.read_csv(\"/home/saksham/Desktop/new_2 phobia.csv\")\n",
    "data"
   ]
  },
  {
   "cell_type": "code",
   "execution_count": 64,
   "id": "9d4cc1aa",
   "metadata": {},
   "outputs": [
    {
     "data": {
      "text/html": [
       "<div>\n",
       "<style scoped>\n",
       "    .dataframe tbody tr th:only-of-type {\n",
       "        vertical-align: middle;\n",
       "    }\n",
       "\n",
       "    .dataframe tbody tr th {\n",
       "        vertical-align: top;\n",
       "    }\n",
       "\n",
       "    .dataframe thead th {\n",
       "        text-align: right;\n",
       "    }\n",
       "</style>\n",
       "<table border=\"1\" class=\"dataframe\">\n",
       "  <thead>\n",
       "    <tr style=\"text-align: right;\">\n",
       "      <th></th>\n",
       "      <th>Subject_ID</th>\n",
       "      <th>Gender</th>\n",
       "      <th>Age</th>\n",
       "      <th>Session_ID</th>\n",
       "      <th>Exposure_Level</th>\n",
       "      <th>EEG_Alpha</th>\n",
       "      <th>EEG_Beta</th>\n",
       "      <th>EEG_Theta</th>\n",
       "      <th>GSR</th>\n",
       "      <th>HR</th>\n",
       "      <th>Fear_Level</th>\n",
       "      <th>Fear_Descriptions</th>\n",
       "    </tr>\n",
       "  </thead>\n",
       "  <tbody>\n",
       "    <tr>\n",
       "      <th>0</th>\n",
       "      <td>15</td>\n",
       "      <td>Male</td>\n",
       "      <td>50</td>\n",
       "      <td>1</td>\n",
       "      <td>4th Floor</td>\n",
       "      <td>56.840536</td>\n",
       "      <td>10.421743</td>\n",
       "      <td>61.180197</td>\n",
       "      <td>0.154523</td>\n",
       "      <td>71</td>\n",
       "      <td>2</td>\n",
       "      <td>Moderate Fear</td>\n",
       "    </tr>\n",
       "    <tr>\n",
       "      <th>1</th>\n",
       "      <td>26</td>\n",
       "      <td>Male</td>\n",
       "      <td>27</td>\n",
       "      <td>1</td>\n",
       "      <td>4th Floor</td>\n",
       "      <td>74.024139</td>\n",
       "      <td>14.168767</td>\n",
       "      <td>70.075022</td>\n",
       "      <td>0.160584</td>\n",
       "      <td>75</td>\n",
       "      <td>2</td>\n",
       "      <td>Moderate Fear</td>\n",
       "    </tr>\n",
       "    <tr>\n",
       "      <th>2</th>\n",
       "      <td>8</td>\n",
       "      <td>Female</td>\n",
       "      <td>50</td>\n",
       "      <td>2</td>\n",
       "      <td>6th Floor</td>\n",
       "      <td>77.883769</td>\n",
       "      <td>13.964466</td>\n",
       "      <td>98.852036</td>\n",
       "      <td>0.123244</td>\n",
       "      <td>99</td>\n",
       "      <td>2</td>\n",
       "      <td>Moderate Fear</td>\n",
       "    </tr>\n",
       "    <tr>\n",
       "      <th>3</th>\n",
       "      <td>26</td>\n",
       "      <td>Female</td>\n",
       "      <td>41</td>\n",
       "      <td>1</td>\n",
       "      <td>4th Floor</td>\n",
       "      <td>63.819817</td>\n",
       "      <td>14.458519</td>\n",
       "      <td>21.459801</td>\n",
       "      <td>0.123947</td>\n",
       "      <td>82</td>\n",
       "      <td>2</td>\n",
       "      <td>Moderate Fear</td>\n",
       "    </tr>\n",
       "    <tr>\n",
       "      <th>4</th>\n",
       "      <td>29</td>\n",
       "      <td>Female</td>\n",
       "      <td>50</td>\n",
       "      <td>2</td>\n",
       "      <td>6th Floor</td>\n",
       "      <td>60.454013</td>\n",
       "      <td>8.980365</td>\n",
       "      <td>78.520138</td>\n",
       "      <td>0.128515</td>\n",
       "      <td>77</td>\n",
       "      <td>2</td>\n",
       "      <td>Moderate Fear</td>\n",
       "    </tr>\n",
       "  </tbody>\n",
       "</table>\n",
       "</div>"
      ],
      "text/plain": [
       "   Subject_ID  Gender  Age  Session_ID Exposure_Level  EEG_Alpha   EEG_Beta  \\\n",
       "0          15    Male   50           1      4th Floor  56.840536  10.421743   \n",
       "1          26    Male   27           1      4th Floor  74.024139  14.168767   \n",
       "2           8  Female   50           2      6th Floor  77.883769  13.964466   \n",
       "3          26  Female   41           1      4th Floor  63.819817  14.458519   \n",
       "4          29  Female   50           2      6th Floor  60.454013   8.980365   \n",
       "\n",
       "   EEG_Theta       GSR  HR  Fear_Level Fear_Descriptions  \n",
       "0  61.180197  0.154523  71           2     Moderate Fear  \n",
       "1  70.075022  0.160584  75           2     Moderate Fear  \n",
       "2  98.852036  0.123244  99           2     Moderate Fear  \n",
       "3  21.459801  0.123947  82           2     Moderate Fear  \n",
       "4  78.520138  0.128515  77           2     Moderate Fear  "
      ]
     },
     "execution_count": 64,
     "metadata": {},
     "output_type": "execute_result"
    }
   ],
   "source": [
    "data.head()"
   ]
  },
  {
   "cell_type": "code",
   "execution_count": 65,
   "id": "af24fb92",
   "metadata": {},
   "outputs": [
    {
     "name": "stdout",
     "output_type": "stream",
     "text": [
      "<class 'pandas.core.frame.DataFrame'>\n",
      "RangeIndex: 5000 entries, 0 to 4999\n",
      "Data columns (total 12 columns):\n",
      " #   Column             Non-Null Count  Dtype  \n",
      "---  ------             --------------  -----  \n",
      " 0   Subject_ID         5000 non-null   int64  \n",
      " 1   Gender             5000 non-null   object \n",
      " 2   Age                5000 non-null   int64  \n",
      " 3   Session_ID         5000 non-null   int64  \n",
      " 4   Exposure_Level     5000 non-null   object \n",
      " 5   EEG_Alpha          5000 non-null   float64\n",
      " 6   EEG_Beta           5000 non-null   float64\n",
      " 7   EEG_Theta          5000 non-null   float64\n",
      " 8   GSR                5000 non-null   float64\n",
      " 9   HR                 5000 non-null   int64  \n",
      " 10  Fear_Level         5000 non-null   int64  \n",
      " 11  Fear_Descriptions  5000 non-null   object \n",
      "dtypes: float64(4), int64(5), object(3)\n",
      "memory usage: 468.9+ KB\n"
     ]
    }
   ],
   "source": [
    "data.info()"
   ]
  },
  {
   "cell_type": "code",
   "execution_count": 66,
   "id": "99d7158f",
   "metadata": {},
   "outputs": [
    {
     "data": {
      "text/html": [
       "<div>\n",
       "<style scoped>\n",
       "    .dataframe tbody tr th:only-of-type {\n",
       "        vertical-align: middle;\n",
       "    }\n",
       "\n",
       "    .dataframe tbody tr th {\n",
       "        vertical-align: top;\n",
       "    }\n",
       "\n",
       "    .dataframe thead th {\n",
       "        text-align: right;\n",
       "    }\n",
       "</style>\n",
       "<table border=\"1\" class=\"dataframe\">\n",
       "  <thead>\n",
       "    <tr style=\"text-align: right;\">\n",
       "      <th></th>\n",
       "      <th>Subject_ID</th>\n",
       "      <th>Age</th>\n",
       "      <th>Session_ID</th>\n",
       "      <th>EEG_Alpha</th>\n",
       "      <th>EEG_Beta</th>\n",
       "      <th>EEG_Theta</th>\n",
       "      <th>GSR</th>\n",
       "      <th>HR</th>\n",
       "      <th>Fear_Level</th>\n",
       "    </tr>\n",
       "  </thead>\n",
       "  <tbody>\n",
       "    <tr>\n",
       "      <th>count</th>\n",
       "      <td>5000.000000</td>\n",
       "      <td>5000.000000</td>\n",
       "      <td>5000.000000</td>\n",
       "      <td>5000.000000</td>\n",
       "      <td>5000.000000</td>\n",
       "      <td>5000.000000</td>\n",
       "      <td>5000.000000</td>\n",
       "      <td>5000.00000</td>\n",
       "      <td>5000.000000</td>\n",
       "    </tr>\n",
       "    <tr>\n",
       "      <th>mean</th>\n",
       "      <td>21.329000</td>\n",
       "      <td>41.980600</td>\n",
       "      <td>1.802600</td>\n",
       "      <td>56.396947</td>\n",
       "      <td>12.588489</td>\n",
       "      <td>57.785106</td>\n",
       "      <td>0.138148</td>\n",
       "      <td>82.06140</td>\n",
       "      <td>2.113800</td>\n",
       "    </tr>\n",
       "    <tr>\n",
       "      <th>std</th>\n",
       "      <td>8.181451</td>\n",
       "      <td>7.062648</td>\n",
       "      <td>0.582839</td>\n",
       "      <td>19.614467</td>\n",
       "      <td>7.064176</td>\n",
       "      <td>20.828706</td>\n",
       "      <td>0.024179</td>\n",
       "      <td>8.91578</td>\n",
       "      <td>0.556517</td>\n",
       "    </tr>\n",
       "    <tr>\n",
       "      <th>min</th>\n",
       "      <td>1.000000</td>\n",
       "      <td>23.000000</td>\n",
       "      <td>1.000000</td>\n",
       "      <td>22.033530</td>\n",
       "      <td>5.173803</td>\n",
       "      <td>21.327026</td>\n",
       "      <td>0.108414</td>\n",
       "      <td>70.00000</td>\n",
       "      <td>0.000000</td>\n",
       "    </tr>\n",
       "    <tr>\n",
       "      <th>25%</th>\n",
       "      <td>14.000000</td>\n",
       "      <td>36.000000</td>\n",
       "      <td>1.000000</td>\n",
       "      <td>41.752559</td>\n",
       "      <td>5.697249</td>\n",
       "      <td>40.677477</td>\n",
       "      <td>0.112515</td>\n",
       "      <td>74.00000</td>\n",
       "      <td>2.000000</td>\n",
       "    </tr>\n",
       "    <tr>\n",
       "      <th>50%</th>\n",
       "      <td>24.000000</td>\n",
       "      <td>43.000000</td>\n",
       "      <td>2.000000</td>\n",
       "      <td>57.115787</td>\n",
       "      <td>10.476055</td>\n",
       "      <td>57.969171</td>\n",
       "      <td>0.138766</td>\n",
       "      <td>80.00000</td>\n",
       "      <td>2.000000</td>\n",
       "    </tr>\n",
       "    <tr>\n",
       "      <th>75%</th>\n",
       "      <td>30.000000</td>\n",
       "      <td>50.000000</td>\n",
       "      <td>2.000000</td>\n",
       "      <td>71.606499</td>\n",
       "      <td>19.051859</td>\n",
       "      <td>73.846122</td>\n",
       "      <td>0.157722</td>\n",
       "      <td>89.00000</td>\n",
       "      <td>2.000000</td>\n",
       "    </tr>\n",
       "    <tr>\n",
       "      <th>max</th>\n",
       "      <td>30.000000</td>\n",
       "      <td>50.000000</td>\n",
       "      <td>3.000000</td>\n",
       "      <td>92.605318</td>\n",
       "      <td>29.294552</td>\n",
       "      <td>98.852036</td>\n",
       "      <td>0.193673</td>\n",
       "      <td>99.00000</td>\n",
       "      <td>3.000000</td>\n",
       "    </tr>\n",
       "  </tbody>\n",
       "</table>\n",
       "</div>"
      ],
      "text/plain": [
       "        Subject_ID          Age   Session_ID    EEG_Alpha     EEG_Beta  \\\n",
       "count  5000.000000  5000.000000  5000.000000  5000.000000  5000.000000   \n",
       "mean     21.329000    41.980600     1.802600    56.396947    12.588489   \n",
       "std       8.181451     7.062648     0.582839    19.614467     7.064176   \n",
       "min       1.000000    23.000000     1.000000    22.033530     5.173803   \n",
       "25%      14.000000    36.000000     1.000000    41.752559     5.697249   \n",
       "50%      24.000000    43.000000     2.000000    57.115787    10.476055   \n",
       "75%      30.000000    50.000000     2.000000    71.606499    19.051859   \n",
       "max      30.000000    50.000000     3.000000    92.605318    29.294552   \n",
       "\n",
       "         EEG_Theta          GSR          HR   Fear_Level  \n",
       "count  5000.000000  5000.000000  5000.00000  5000.000000  \n",
       "mean     57.785106     0.138148    82.06140     2.113800  \n",
       "std      20.828706     0.024179     8.91578     0.556517  \n",
       "min      21.327026     0.108414    70.00000     0.000000  \n",
       "25%      40.677477     0.112515    74.00000     2.000000  \n",
       "50%      57.969171     0.138766    80.00000     2.000000  \n",
       "75%      73.846122     0.157722    89.00000     2.000000  \n",
       "max      98.852036     0.193673    99.00000     3.000000  "
      ]
     },
     "execution_count": 66,
     "metadata": {},
     "output_type": "execute_result"
    }
   ],
   "source": [
    "data.describe()"
   ]
  },
  {
   "cell_type": "code",
   "execution_count": 67,
   "id": "1db38d19",
   "metadata": {},
   "outputs": [
    {
     "data": {
      "text/plain": [
       "Subject_ID           0\n",
       "Gender               0\n",
       "Age                  0\n",
       "Session_ID           0\n",
       "Exposure_Level       0\n",
       "EEG_Alpha            0\n",
       "EEG_Beta             0\n",
       "EEG_Theta            0\n",
       "GSR                  0\n",
       "HR                   0\n",
       "Fear_Level           0\n",
       "Fear_Descriptions    0\n",
       "dtype: int64"
      ]
     },
     "execution_count": 67,
     "metadata": {},
     "output_type": "execute_result"
    }
   ],
   "source": [
    "data.isnull().sum()"
   ]
  },
  {
   "cell_type": "code",
   "execution_count": 68,
   "id": "0f3a7799",
   "metadata": {},
   "outputs": [
    {
     "data": {
      "text/html": [
       "<div>\n",
       "<style scoped>\n",
       "    .dataframe tbody tr th:only-of-type {\n",
       "        vertical-align: middle;\n",
       "    }\n",
       "\n",
       "    .dataframe tbody tr th {\n",
       "        vertical-align: top;\n",
       "    }\n",
       "\n",
       "    .dataframe thead th {\n",
       "        text-align: right;\n",
       "    }\n",
       "</style>\n",
       "<table border=\"1\" class=\"dataframe\">\n",
       "  <thead>\n",
       "    <tr style=\"text-align: right;\">\n",
       "      <th></th>\n",
       "      <th>Subject_ID</th>\n",
       "      <th>Gender</th>\n",
       "      <th>Age</th>\n",
       "      <th>Session_ID</th>\n",
       "      <th>Exposure_Level</th>\n",
       "      <th>EEG_Alpha</th>\n",
       "      <th>EEG_Beta</th>\n",
       "      <th>EEG_Theta</th>\n",
       "      <th>GSR</th>\n",
       "      <th>HR</th>\n",
       "      <th>Fear_Level</th>\n",
       "      <th>Fear_Descriptions</th>\n",
       "    </tr>\n",
       "  </thead>\n",
       "  <tbody>\n",
       "    <tr>\n",
       "      <th>0</th>\n",
       "      <td>15</td>\n",
       "      <td>Male</td>\n",
       "      <td>50</td>\n",
       "      <td>1</td>\n",
       "      <td>4th Floor</td>\n",
       "      <td>56.840536</td>\n",
       "      <td>10.421743</td>\n",
       "      <td>61.180197</td>\n",
       "      <td>0.154523</td>\n",
       "      <td>71</td>\n",
       "      <td>2</td>\n",
       "      <td>Moderate Fear</td>\n",
       "    </tr>\n",
       "    <tr>\n",
       "      <th>1</th>\n",
       "      <td>26</td>\n",
       "      <td>Male</td>\n",
       "      <td>27</td>\n",
       "      <td>1</td>\n",
       "      <td>4th Floor</td>\n",
       "      <td>74.024139</td>\n",
       "      <td>14.168767</td>\n",
       "      <td>70.075022</td>\n",
       "      <td>0.160584</td>\n",
       "      <td>75</td>\n",
       "      <td>2</td>\n",
       "      <td>Moderate Fear</td>\n",
       "    </tr>\n",
       "    <tr>\n",
       "      <th>2</th>\n",
       "      <td>8</td>\n",
       "      <td>Female</td>\n",
       "      <td>50</td>\n",
       "      <td>2</td>\n",
       "      <td>6th Floor</td>\n",
       "      <td>77.883769</td>\n",
       "      <td>13.964466</td>\n",
       "      <td>98.852036</td>\n",
       "      <td>0.123244</td>\n",
       "      <td>99</td>\n",
       "      <td>2</td>\n",
       "      <td>Moderate Fear</td>\n",
       "    </tr>\n",
       "    <tr>\n",
       "      <th>3</th>\n",
       "      <td>26</td>\n",
       "      <td>Female</td>\n",
       "      <td>41</td>\n",
       "      <td>1</td>\n",
       "      <td>4th Floor</td>\n",
       "      <td>63.819817</td>\n",
       "      <td>14.458519</td>\n",
       "      <td>21.459801</td>\n",
       "      <td>0.123947</td>\n",
       "      <td>82</td>\n",
       "      <td>2</td>\n",
       "      <td>Moderate Fear</td>\n",
       "    </tr>\n",
       "    <tr>\n",
       "      <th>4</th>\n",
       "      <td>29</td>\n",
       "      <td>Female</td>\n",
       "      <td>50</td>\n",
       "      <td>2</td>\n",
       "      <td>6th Floor</td>\n",
       "      <td>60.454013</td>\n",
       "      <td>8.980365</td>\n",
       "      <td>78.520138</td>\n",
       "      <td>0.128515</td>\n",
       "      <td>77</td>\n",
       "      <td>2</td>\n",
       "      <td>Moderate Fear</td>\n",
       "    </tr>\n",
       "    <tr>\n",
       "      <th>...</th>\n",
       "      <td>...</td>\n",
       "      <td>...</td>\n",
       "      <td>...</td>\n",
       "      <td>...</td>\n",
       "      <td>...</td>\n",
       "      <td>...</td>\n",
       "      <td>...</td>\n",
       "      <td>...</td>\n",
       "      <td>...</td>\n",
       "      <td>...</td>\n",
       "      <td>...</td>\n",
       "      <td>...</td>\n",
       "    </tr>\n",
       "    <tr>\n",
       "      <th>4995</th>\n",
       "      <td>12</td>\n",
       "      <td>Female</td>\n",
       "      <td>50</td>\n",
       "      <td>2</td>\n",
       "      <td>1st Floor</td>\n",
       "      <td>92.605318</td>\n",
       "      <td>22.123740</td>\n",
       "      <td>35.215227</td>\n",
       "      <td>0.144018</td>\n",
       "      <td>74</td>\n",
       "      <td>3</td>\n",
       "      <td>High Fear</td>\n",
       "    </tr>\n",
       "    <tr>\n",
       "      <th>4996</th>\n",
       "      <td>16</td>\n",
       "      <td>Female</td>\n",
       "      <td>39</td>\n",
       "      <td>1</td>\n",
       "      <td>6th Floor</td>\n",
       "      <td>30.381435</td>\n",
       "      <td>9.738056</td>\n",
       "      <td>45.104997</td>\n",
       "      <td>0.150544</td>\n",
       "      <td>90</td>\n",
       "      <td>2</td>\n",
       "      <td>Moderate Fear</td>\n",
       "    </tr>\n",
       "    <tr>\n",
       "      <th>4997</th>\n",
       "      <td>30</td>\n",
       "      <td>Male</td>\n",
       "      <td>27</td>\n",
       "      <td>1</td>\n",
       "      <td>1st Floor</td>\n",
       "      <td>63.581709</td>\n",
       "      <td>5.578390</td>\n",
       "      <td>76.840675</td>\n",
       "      <td>0.146118</td>\n",
       "      <td>95</td>\n",
       "      <td>2</td>\n",
       "      <td>Moderate Fear</td>\n",
       "    </tr>\n",
       "    <tr>\n",
       "      <th>4998</th>\n",
       "      <td>30</td>\n",
       "      <td>Female</td>\n",
       "      <td>47</td>\n",
       "      <td>1</td>\n",
       "      <td>Rooftop</td>\n",
       "      <td>41.436781</td>\n",
       "      <td>25.665122</td>\n",
       "      <td>98.852036</td>\n",
       "      <td>0.134670</td>\n",
       "      <td>84</td>\n",
       "      <td>2</td>\n",
       "      <td>Moderate Fear</td>\n",
       "    </tr>\n",
       "    <tr>\n",
       "      <th>4999</th>\n",
       "      <td>30</td>\n",
       "      <td>Female</td>\n",
       "      <td>32</td>\n",
       "      <td>1</td>\n",
       "      <td>1st Floor</td>\n",
       "      <td>22.033530</td>\n",
       "      <td>9.276070</td>\n",
       "      <td>72.501554</td>\n",
       "      <td>0.138768</td>\n",
       "      <td>73</td>\n",
       "      <td>2</td>\n",
       "      <td>Moderate Fear</td>\n",
       "    </tr>\n",
       "  </tbody>\n",
       "</table>\n",
       "<p>5000 rows × 12 columns</p>\n",
       "</div>"
      ],
      "text/plain": [
       "      Subject_ID  Gender  Age  Session_ID Exposure_Level  EEG_Alpha  \\\n",
       "0             15    Male   50           1      4th Floor  56.840536   \n",
       "1             26    Male   27           1      4th Floor  74.024139   \n",
       "2              8  Female   50           2      6th Floor  77.883769   \n",
       "3             26  Female   41           1      4th Floor  63.819817   \n",
       "4             29  Female   50           2      6th Floor  60.454013   \n",
       "...          ...     ...  ...         ...            ...        ...   \n",
       "4995          12  Female   50           2      1st Floor  92.605318   \n",
       "4996          16  Female   39           1      6th Floor  30.381435   \n",
       "4997          30    Male   27           1      1st Floor  63.581709   \n",
       "4998          30  Female   47           1        Rooftop  41.436781   \n",
       "4999          30  Female   32           1      1st Floor  22.033530   \n",
       "\n",
       "       EEG_Beta  EEG_Theta       GSR  HR  Fear_Level Fear_Descriptions  \n",
       "0     10.421743  61.180197  0.154523  71           2     Moderate Fear  \n",
       "1     14.168767  70.075022  0.160584  75           2     Moderate Fear  \n",
       "2     13.964466  98.852036  0.123244  99           2     Moderate Fear  \n",
       "3     14.458519  21.459801  0.123947  82           2     Moderate Fear  \n",
       "4      8.980365  78.520138  0.128515  77           2     Moderate Fear  \n",
       "...         ...        ...       ...  ..         ...               ...  \n",
       "4995  22.123740  35.215227  0.144018  74           3         High Fear  \n",
       "4996   9.738056  45.104997  0.150544  90           2     Moderate Fear  \n",
       "4997   5.578390  76.840675  0.146118  95           2     Moderate Fear  \n",
       "4998  25.665122  98.852036  0.134670  84           2     Moderate Fear  \n",
       "4999   9.276070  72.501554  0.138768  73           2     Moderate Fear  \n",
       "\n",
       "[5000 rows x 12 columns]"
      ]
     },
     "execution_count": 68,
     "metadata": {},
     "output_type": "execute_result"
    }
   ],
   "source": [
    "data.dropna()"
   ]
  },
  {
   "cell_type": "code",
   "execution_count": 69,
   "id": "cfd816a2",
   "metadata": {},
   "outputs": [],
   "source": [
    "features = ['EEG_Alpha', \"EEG_Beta\", \"EEG_Theta\", \"GSR\", \"HR\"]\n",
    "target = \"Fear_Level\""
   ]
  },
  {
   "cell_type": "code",
   "execution_count": 70,
   "id": "414f8374",
   "metadata": {},
   "outputs": [],
   "source": [
    "X = data[features]\n",
    "Y = data[target]"
   ]
  },
  {
   "cell_type": "code",
   "execution_count": 71,
   "id": "f211a36e",
   "metadata": {},
   "outputs": [],
   "source": [
    "from sklearn.model_selection import train_test_split\n",
    "X_train, X_test, Y_train, Y_test = train_test_split(X,Y, test_size = 0.2, random_state = 42)"
   ]
  },
  {
   "cell_type": "code",
   "execution_count": 72,
   "id": "a5957103",
   "metadata": {},
   "outputs": [],
   "source": [
    "from sklearn.preprocessing import StandardScaler\n",
    "scaler = StandardScaler()\n",
    "X_train = scaler.fit_transform(X_train)\n",
    "X_test = scaler.transform(X_test)"
   ]
  },
  {
   "cell_type": "code",
   "execution_count": 73,
   "id": "0aff80ab",
   "metadata": {},
   "outputs": [
    {
     "data": {
      "text/html": [
       "<style>#sk-container-id-5 {color: black;}#sk-container-id-5 pre{padding: 0;}#sk-container-id-5 div.sk-toggleable {background-color: white;}#sk-container-id-5 label.sk-toggleable__label {cursor: pointer;display: block;width: 100%;margin-bottom: 0;padding: 0.3em;box-sizing: border-box;text-align: center;}#sk-container-id-5 label.sk-toggleable__label-arrow:before {content: \"▸\";float: left;margin-right: 0.25em;color: #696969;}#sk-container-id-5 label.sk-toggleable__label-arrow:hover:before {color: black;}#sk-container-id-5 div.sk-estimator:hover label.sk-toggleable__label-arrow:before {color: black;}#sk-container-id-5 div.sk-toggleable__content {max-height: 0;max-width: 0;overflow: hidden;text-align: left;background-color: #f0f8ff;}#sk-container-id-5 div.sk-toggleable__content pre {margin: 0.2em;color: black;border-radius: 0.25em;background-color: #f0f8ff;}#sk-container-id-5 input.sk-toggleable__control:checked~div.sk-toggleable__content {max-height: 200px;max-width: 100%;overflow: auto;}#sk-container-id-5 input.sk-toggleable__control:checked~label.sk-toggleable__label-arrow:before {content: \"▾\";}#sk-container-id-5 div.sk-estimator input.sk-toggleable__control:checked~label.sk-toggleable__label {background-color: #d4ebff;}#sk-container-id-5 div.sk-label input.sk-toggleable__control:checked~label.sk-toggleable__label {background-color: #d4ebff;}#sk-container-id-5 input.sk-hidden--visually {border: 0;clip: rect(1px 1px 1px 1px);clip: rect(1px, 1px, 1px, 1px);height: 1px;margin: -1px;overflow: hidden;padding: 0;position: absolute;width: 1px;}#sk-container-id-5 div.sk-estimator {font-family: monospace;background-color: #f0f8ff;border: 1px dotted black;border-radius: 0.25em;box-sizing: border-box;margin-bottom: 0.5em;}#sk-container-id-5 div.sk-estimator:hover {background-color: #d4ebff;}#sk-container-id-5 div.sk-parallel-item::after {content: \"\";width: 100%;border-bottom: 1px solid gray;flex-grow: 1;}#sk-container-id-5 div.sk-label:hover label.sk-toggleable__label {background-color: #d4ebff;}#sk-container-id-5 div.sk-serial::before {content: \"\";position: absolute;border-left: 1px solid gray;box-sizing: border-box;top: 0;bottom: 0;left: 50%;z-index: 0;}#sk-container-id-5 div.sk-serial {display: flex;flex-direction: column;align-items: center;background-color: white;padding-right: 0.2em;padding-left: 0.2em;position: relative;}#sk-container-id-5 div.sk-item {position: relative;z-index: 1;}#sk-container-id-5 div.sk-parallel {display: flex;align-items: stretch;justify-content: center;background-color: white;position: relative;}#sk-container-id-5 div.sk-item::before, #sk-container-id-5 div.sk-parallel-item::before {content: \"\";position: absolute;border-left: 1px solid gray;box-sizing: border-box;top: 0;bottom: 0;left: 50%;z-index: -1;}#sk-container-id-5 div.sk-parallel-item {display: flex;flex-direction: column;z-index: 1;position: relative;background-color: white;}#sk-container-id-5 div.sk-parallel-item:first-child::after {align-self: flex-end;width: 50%;}#sk-container-id-5 div.sk-parallel-item:last-child::after {align-self: flex-start;width: 50%;}#sk-container-id-5 div.sk-parallel-item:only-child::after {width: 0;}#sk-container-id-5 div.sk-dashed-wrapped {border: 1px dashed gray;margin: 0 0.4em 0.5em 0.4em;box-sizing: border-box;padding-bottom: 0.4em;background-color: white;}#sk-container-id-5 div.sk-label label {font-family: monospace;font-weight: bold;display: inline-block;line-height: 1.2em;}#sk-container-id-5 div.sk-label-container {text-align: center;}#sk-container-id-5 div.sk-container {/* jupyter's `normalize.less` sets `[hidden] { display: none; }` but bootstrap.min.css set `[hidden] { display: none !important; }` so we also need the `!important` here to be able to override the default hidden behavior on the sphinx rendered scikit-learn.org. See: https://github.com/scikit-learn/scikit-learn/issues/21755 */display: inline-block !important;position: relative;}#sk-container-id-5 div.sk-text-repr-fallback {display: none;}</style><div id=\"sk-container-id-5\" class=\"sk-top-container\"><div class=\"sk-text-repr-fallback\"><pre>SVC()</pre><b>In a Jupyter environment, please rerun this cell to show the HTML representation or trust the notebook. <br />On GitHub, the HTML representation is unable to render, please try loading this page with nbviewer.org.</b></div><div class=\"sk-container\" hidden><div class=\"sk-item\"><div class=\"sk-estimator sk-toggleable\"><input class=\"sk-toggleable__control sk-hidden--visually\" id=\"sk-estimator-id-5\" type=\"checkbox\" checked><label for=\"sk-estimator-id-5\" class=\"sk-toggleable__label sk-toggleable__label-arrow\">SVC</label><div class=\"sk-toggleable__content\"><pre>SVC()</pre></div></div></div></div></div>"
      ],
      "text/plain": [
       "SVC()"
      ]
     },
     "execution_count": 73,
     "metadata": {},
     "output_type": "execute_result"
    }
   ],
   "source": [
    "from sklearn.metrics import accuracy_score, classification_report, confusion_matrix\n",
    "from sklearn.svm import SVC\n",
    "\n",
    "svc = SVC()\n",
    "svc.fit(X_train,Y_train)"
   ]
  },
  {
   "cell_type": "code",
   "execution_count": 74,
   "id": "49d6e672",
   "metadata": {},
   "outputs": [
    {
     "data": {
      "text/plain": [
       "('SVM Accuracy:', 78.0)"
      ]
     },
     "execution_count": 74,
     "metadata": {},
     "output_type": "execute_result"
    }
   ],
   "source": [
    "Y_pred_svc = svc.predict(X_test)\n",
    "\"SVM Accuracy:\", accuracy_score(Y_test, Y_pred_svc)*100"
   ]
  },
  {
   "cell_type": "code",
   "execution_count": 75,
   "id": "0114e10f",
   "metadata": {},
   "outputs": [
    {
     "name": "stderr",
     "output_type": "stream",
     "text": [
      "/home/saksham/anaconda3/lib/python3.11/site-packages/sklearn/metrics/_classification.py:1471: UndefinedMetricWarning: Precision and F-score are ill-defined and being set to 0.0 in labels with no predicted samples. Use `zero_division` parameter to control this behavior.\n",
      "  _warn_prf(average, modifier, msg_start, len(result))\n",
      "/home/saksham/anaconda3/lib/python3.11/site-packages/sklearn/metrics/_classification.py:1471: UndefinedMetricWarning: Precision and F-score are ill-defined and being set to 0.0 in labels with no predicted samples. Use `zero_division` parameter to control this behavior.\n",
      "  _warn_prf(average, modifier, msg_start, len(result))\n",
      "/home/saksham/anaconda3/lib/python3.11/site-packages/sklearn/metrics/_classification.py:1471: UndefinedMetricWarning: Precision and F-score are ill-defined and being set to 0.0 in labels with no predicted samples. Use `zero_division` parameter to control this behavior.\n",
      "  _warn_prf(average, modifier, msg_start, len(result))\n"
     ]
    },
    {
     "data": {
      "text/plain": [
       "('SVM Confusion Matrix:',\n",
       " array([[  0,   0,  30,   0],\n",
       "        [  0,   0,  12,   0],\n",
       "        [  0,   0, 780,   0],\n",
       "        [  0,   0, 178,   0]]))"
      ]
     },
     "execution_count": 75,
     "metadata": {},
     "output_type": "execute_result"
    }
   ],
   "source": [
    "\"SVM Classification Report:\", classification_report(Y_test, Y_pred_svc)\n",
    "\"SVM Confusion Matrix:\", confusion_matrix(Y_test, Y_pred_svc)"
   ]
  },
  {
   "cell_type": "code",
   "execution_count": 76,
   "id": "ba2448d9",
   "metadata": {},
   "outputs": [],
   "source": [
    "from sklearn.neighbors import KNeighborsClassifier"
   ]
  },
  {
   "cell_type": "code",
   "execution_count": 77,
   "id": "a8cf346a",
   "metadata": {},
   "outputs": [
    {
     "data": {
      "text/html": [
       "<style>#sk-container-id-6 {color: black;}#sk-container-id-6 pre{padding: 0;}#sk-container-id-6 div.sk-toggleable {background-color: white;}#sk-container-id-6 label.sk-toggleable__label {cursor: pointer;display: block;width: 100%;margin-bottom: 0;padding: 0.3em;box-sizing: border-box;text-align: center;}#sk-container-id-6 label.sk-toggleable__label-arrow:before {content: \"▸\";float: left;margin-right: 0.25em;color: #696969;}#sk-container-id-6 label.sk-toggleable__label-arrow:hover:before {color: black;}#sk-container-id-6 div.sk-estimator:hover label.sk-toggleable__label-arrow:before {color: black;}#sk-container-id-6 div.sk-toggleable__content {max-height: 0;max-width: 0;overflow: hidden;text-align: left;background-color: #f0f8ff;}#sk-container-id-6 div.sk-toggleable__content pre {margin: 0.2em;color: black;border-radius: 0.25em;background-color: #f0f8ff;}#sk-container-id-6 input.sk-toggleable__control:checked~div.sk-toggleable__content {max-height: 200px;max-width: 100%;overflow: auto;}#sk-container-id-6 input.sk-toggleable__control:checked~label.sk-toggleable__label-arrow:before {content: \"▾\";}#sk-container-id-6 div.sk-estimator input.sk-toggleable__control:checked~label.sk-toggleable__label {background-color: #d4ebff;}#sk-container-id-6 div.sk-label input.sk-toggleable__control:checked~label.sk-toggleable__label {background-color: #d4ebff;}#sk-container-id-6 input.sk-hidden--visually {border: 0;clip: rect(1px 1px 1px 1px);clip: rect(1px, 1px, 1px, 1px);height: 1px;margin: -1px;overflow: hidden;padding: 0;position: absolute;width: 1px;}#sk-container-id-6 div.sk-estimator {font-family: monospace;background-color: #f0f8ff;border: 1px dotted black;border-radius: 0.25em;box-sizing: border-box;margin-bottom: 0.5em;}#sk-container-id-6 div.sk-estimator:hover {background-color: #d4ebff;}#sk-container-id-6 div.sk-parallel-item::after {content: \"\";width: 100%;border-bottom: 1px solid gray;flex-grow: 1;}#sk-container-id-6 div.sk-label:hover label.sk-toggleable__label {background-color: #d4ebff;}#sk-container-id-6 div.sk-serial::before {content: \"\";position: absolute;border-left: 1px solid gray;box-sizing: border-box;top: 0;bottom: 0;left: 50%;z-index: 0;}#sk-container-id-6 div.sk-serial {display: flex;flex-direction: column;align-items: center;background-color: white;padding-right: 0.2em;padding-left: 0.2em;position: relative;}#sk-container-id-6 div.sk-item {position: relative;z-index: 1;}#sk-container-id-6 div.sk-parallel {display: flex;align-items: stretch;justify-content: center;background-color: white;position: relative;}#sk-container-id-6 div.sk-item::before, #sk-container-id-6 div.sk-parallel-item::before {content: \"\";position: absolute;border-left: 1px solid gray;box-sizing: border-box;top: 0;bottom: 0;left: 50%;z-index: -1;}#sk-container-id-6 div.sk-parallel-item {display: flex;flex-direction: column;z-index: 1;position: relative;background-color: white;}#sk-container-id-6 div.sk-parallel-item:first-child::after {align-self: flex-end;width: 50%;}#sk-container-id-6 div.sk-parallel-item:last-child::after {align-self: flex-start;width: 50%;}#sk-container-id-6 div.sk-parallel-item:only-child::after {width: 0;}#sk-container-id-6 div.sk-dashed-wrapped {border: 1px dashed gray;margin: 0 0.4em 0.5em 0.4em;box-sizing: border-box;padding-bottom: 0.4em;background-color: white;}#sk-container-id-6 div.sk-label label {font-family: monospace;font-weight: bold;display: inline-block;line-height: 1.2em;}#sk-container-id-6 div.sk-label-container {text-align: center;}#sk-container-id-6 div.sk-container {/* jupyter's `normalize.less` sets `[hidden] { display: none; }` but bootstrap.min.css set `[hidden] { display: none !important; }` so we also need the `!important` here to be able to override the default hidden behavior on the sphinx rendered scikit-learn.org. See: https://github.com/scikit-learn/scikit-learn/issues/21755 */display: inline-block !important;position: relative;}#sk-container-id-6 div.sk-text-repr-fallback {display: none;}</style><div id=\"sk-container-id-6\" class=\"sk-top-container\"><div class=\"sk-text-repr-fallback\"><pre>KNeighborsClassifier()</pre><b>In a Jupyter environment, please rerun this cell to show the HTML representation or trust the notebook. <br />On GitHub, the HTML representation is unable to render, please try loading this page with nbviewer.org.</b></div><div class=\"sk-container\" hidden><div class=\"sk-item\"><div class=\"sk-estimator sk-toggleable\"><input class=\"sk-toggleable__control sk-hidden--visually\" id=\"sk-estimator-id-6\" type=\"checkbox\" checked><label for=\"sk-estimator-id-6\" class=\"sk-toggleable__label sk-toggleable__label-arrow\">KNeighborsClassifier</label><div class=\"sk-toggleable__content\"><pre>KNeighborsClassifier()</pre></div></div></div></div></div>"
      ],
      "text/plain": [
       "KNeighborsClassifier()"
      ]
     },
     "execution_count": 77,
     "metadata": {},
     "output_type": "execute_result"
    }
   ],
   "source": [
    "knn = KNeighborsClassifier()\n",
    "knn.fit(X_train,Y_train)"
   ]
  },
  {
   "cell_type": "code",
   "execution_count": 78,
   "id": "4d82f9d7",
   "metadata": {},
   "outputs": [
    {
     "data": {
      "text/plain": [
       "('KNN Accuracy:', 74.9)"
      ]
     },
     "execution_count": 78,
     "metadata": {},
     "output_type": "execute_result"
    }
   ],
   "source": [
    "Y_pred_knn = knn.predict(X_test) \n",
    "\"KNN Accuracy:\", accuracy_score(Y_test, Y_pred_knn)*100"
   ]
  },
  {
   "cell_type": "code",
   "execution_count": 79,
   "id": "83a6a7cd",
   "metadata": {},
   "outputs": [
    {
     "name": "stderr",
     "output_type": "stream",
     "text": [
      "/home/saksham/anaconda3/lib/python3.11/site-packages/sklearn/metrics/_classification.py:1471: UndefinedMetricWarning: Precision and F-score are ill-defined and being set to 0.0 in labels with no predicted samples. Use `zero_division` parameter to control this behavior.\n",
      "  _warn_prf(average, modifier, msg_start, len(result))\n",
      "/home/saksham/anaconda3/lib/python3.11/site-packages/sklearn/metrics/_classification.py:1471: UndefinedMetricWarning: Precision and F-score are ill-defined and being set to 0.0 in labels with no predicted samples. Use `zero_division` parameter to control this behavior.\n",
      "  _warn_prf(average, modifier, msg_start, len(result))\n",
      "/home/saksham/anaconda3/lib/python3.11/site-packages/sklearn/metrics/_classification.py:1471: UndefinedMetricWarning: Precision and F-score are ill-defined and being set to 0.0 in labels with no predicted samples. Use `zero_division` parameter to control this behavior.\n",
      "  _warn_prf(average, modifier, msg_start, len(result))\n"
     ]
    },
    {
     "data": {
      "text/plain": [
       "('kNN Confusion Matrix:',\n",
       " array([[  1,   0,  28,   1],\n",
       "        [  0,   0,  11,   1],\n",
       "        [  3,   0, 734,  43],\n",
       "        [  0,   0, 164,  14]]))"
      ]
     },
     "execution_count": 79,
     "metadata": {},
     "output_type": "execute_result"
    }
   ],
   "source": [
    "\"kNN Classification Report:\", classification_report(Y_test, Y_pred_knn)\n",
    "\"kNN Confusion Matrix:\", confusion_matrix(Y_test, Y_pred_knn)"
   ]
  },
  {
   "cell_type": "code",
   "execution_count": 80,
   "id": "0db7bde7",
   "metadata": {},
   "outputs": [
    {
     "data": {
      "text/html": [
       "<style>#sk-container-id-7 {color: black;}#sk-container-id-7 pre{padding: 0;}#sk-container-id-7 div.sk-toggleable {background-color: white;}#sk-container-id-7 label.sk-toggleable__label {cursor: pointer;display: block;width: 100%;margin-bottom: 0;padding: 0.3em;box-sizing: border-box;text-align: center;}#sk-container-id-7 label.sk-toggleable__label-arrow:before {content: \"▸\";float: left;margin-right: 0.25em;color: #696969;}#sk-container-id-7 label.sk-toggleable__label-arrow:hover:before {color: black;}#sk-container-id-7 div.sk-estimator:hover label.sk-toggleable__label-arrow:before {color: black;}#sk-container-id-7 div.sk-toggleable__content {max-height: 0;max-width: 0;overflow: hidden;text-align: left;background-color: #f0f8ff;}#sk-container-id-7 div.sk-toggleable__content pre {margin: 0.2em;color: black;border-radius: 0.25em;background-color: #f0f8ff;}#sk-container-id-7 input.sk-toggleable__control:checked~div.sk-toggleable__content {max-height: 200px;max-width: 100%;overflow: auto;}#sk-container-id-7 input.sk-toggleable__control:checked~label.sk-toggleable__label-arrow:before {content: \"▾\";}#sk-container-id-7 div.sk-estimator input.sk-toggleable__control:checked~label.sk-toggleable__label {background-color: #d4ebff;}#sk-container-id-7 div.sk-label input.sk-toggleable__control:checked~label.sk-toggleable__label {background-color: #d4ebff;}#sk-container-id-7 input.sk-hidden--visually {border: 0;clip: rect(1px 1px 1px 1px);clip: rect(1px, 1px, 1px, 1px);height: 1px;margin: -1px;overflow: hidden;padding: 0;position: absolute;width: 1px;}#sk-container-id-7 div.sk-estimator {font-family: monospace;background-color: #f0f8ff;border: 1px dotted black;border-radius: 0.25em;box-sizing: border-box;margin-bottom: 0.5em;}#sk-container-id-7 div.sk-estimator:hover {background-color: #d4ebff;}#sk-container-id-7 div.sk-parallel-item::after {content: \"\";width: 100%;border-bottom: 1px solid gray;flex-grow: 1;}#sk-container-id-7 div.sk-label:hover label.sk-toggleable__label {background-color: #d4ebff;}#sk-container-id-7 div.sk-serial::before {content: \"\";position: absolute;border-left: 1px solid gray;box-sizing: border-box;top: 0;bottom: 0;left: 50%;z-index: 0;}#sk-container-id-7 div.sk-serial {display: flex;flex-direction: column;align-items: center;background-color: white;padding-right: 0.2em;padding-left: 0.2em;position: relative;}#sk-container-id-7 div.sk-item {position: relative;z-index: 1;}#sk-container-id-7 div.sk-parallel {display: flex;align-items: stretch;justify-content: center;background-color: white;position: relative;}#sk-container-id-7 div.sk-item::before, #sk-container-id-7 div.sk-parallel-item::before {content: \"\";position: absolute;border-left: 1px solid gray;box-sizing: border-box;top: 0;bottom: 0;left: 50%;z-index: -1;}#sk-container-id-7 div.sk-parallel-item {display: flex;flex-direction: column;z-index: 1;position: relative;background-color: white;}#sk-container-id-7 div.sk-parallel-item:first-child::after {align-self: flex-end;width: 50%;}#sk-container-id-7 div.sk-parallel-item:last-child::after {align-self: flex-start;width: 50%;}#sk-container-id-7 div.sk-parallel-item:only-child::after {width: 0;}#sk-container-id-7 div.sk-dashed-wrapped {border: 1px dashed gray;margin: 0 0.4em 0.5em 0.4em;box-sizing: border-box;padding-bottom: 0.4em;background-color: white;}#sk-container-id-7 div.sk-label label {font-family: monospace;font-weight: bold;display: inline-block;line-height: 1.2em;}#sk-container-id-7 div.sk-label-container {text-align: center;}#sk-container-id-7 div.sk-container {/* jupyter's `normalize.less` sets `[hidden] { display: none; }` but bootstrap.min.css set `[hidden] { display: none !important; }` so we also need the `!important` here to be able to override the default hidden behavior on the sphinx rendered scikit-learn.org. See: https://github.com/scikit-learn/scikit-learn/issues/21755 */display: inline-block !important;position: relative;}#sk-container-id-7 div.sk-text-repr-fallback {display: none;}</style><div id=\"sk-container-id-7\" class=\"sk-top-container\"><div class=\"sk-text-repr-fallback\"><pre>LinearDiscriminantAnalysis()</pre><b>In a Jupyter environment, please rerun this cell to show the HTML representation or trust the notebook. <br />On GitHub, the HTML representation is unable to render, please try loading this page with nbviewer.org.</b></div><div class=\"sk-container\" hidden><div class=\"sk-item\"><div class=\"sk-estimator sk-toggleable\"><input class=\"sk-toggleable__control sk-hidden--visually\" id=\"sk-estimator-id-7\" type=\"checkbox\" checked><label for=\"sk-estimator-id-7\" class=\"sk-toggleable__label sk-toggleable__label-arrow\">LinearDiscriminantAnalysis</label><div class=\"sk-toggleable__content\"><pre>LinearDiscriminantAnalysis()</pre></div></div></div></div></div>"
      ],
      "text/plain": [
       "LinearDiscriminantAnalysis()"
      ]
     },
     "execution_count": 80,
     "metadata": {},
     "output_type": "execute_result"
    }
   ],
   "source": [
    "from sklearn.discriminant_analysis import LinearDiscriminantAnalysis\n",
    "\n",
    "lda = LinearDiscriminantAnalysis()\n",
    "lda.fit(X_train, Y_train)"
   ]
  },
  {
   "cell_type": "code",
   "execution_count": 81,
   "id": "6703ee17",
   "metadata": {},
   "outputs": [
    {
     "data": {
      "text/plain": [
       "('LDA Accuracy:', 78.0)"
      ]
     },
     "execution_count": 81,
     "metadata": {},
     "output_type": "execute_result"
    }
   ],
   "source": [
    "Y_pred_lda = lda.predict(X_test)\n",
    "\"LDA Accuracy:\", accuracy_score(Y_test, Y_pred_lda)*100"
   ]
  },
  {
   "cell_type": "code",
   "execution_count": 82,
   "id": "c2180f67",
   "metadata": {},
   "outputs": [
    {
     "name": "stderr",
     "output_type": "stream",
     "text": [
      "/home/saksham/anaconda3/lib/python3.11/site-packages/sklearn/metrics/_classification.py:1471: UndefinedMetricWarning: Precision and F-score are ill-defined and being set to 0.0 in labels with no predicted samples. Use `zero_division` parameter to control this behavior.\n",
      "  _warn_prf(average, modifier, msg_start, len(result))\n",
      "/home/saksham/anaconda3/lib/python3.11/site-packages/sklearn/metrics/_classification.py:1471: UndefinedMetricWarning: Precision and F-score are ill-defined and being set to 0.0 in labels with no predicted samples. Use `zero_division` parameter to control this behavior.\n",
      "  _warn_prf(average, modifier, msg_start, len(result))\n",
      "/home/saksham/anaconda3/lib/python3.11/site-packages/sklearn/metrics/_classification.py:1471: UndefinedMetricWarning: Precision and F-score are ill-defined and being set to 0.0 in labels with no predicted samples. Use `zero_division` parameter to control this behavior.\n",
      "  _warn_prf(average, modifier, msg_start, len(result))\n"
     ]
    },
    {
     "data": {
      "text/plain": [
       "('LDA Confusion Matrix:\\n',\n",
       " array([[  0,   0,  30,   0],\n",
       "        [  0,   0,  12,   0],\n",
       "        [  0,   0, 780,   0],\n",
       "        [  0,   0, 178,   0]]))"
      ]
     },
     "execution_count": 82,
     "metadata": {},
     "output_type": "execute_result"
    }
   ],
   "source": [
    "\"LDA Classification Report:\\n\", classification_report(Y_test, Y_pred_lda)\n",
    "\"LDA Confusion Matrix:\\n\", confusion_matrix(Y_test, Y_pred_lda)"
   ]
  },
  {
   "cell_type": "code",
   "execution_count": 83,
   "id": "61da547b",
   "metadata": {},
   "outputs": [
    {
     "data": {
      "text/html": [
       "<style>#sk-container-id-8 {color: black;}#sk-container-id-8 pre{padding: 0;}#sk-container-id-8 div.sk-toggleable {background-color: white;}#sk-container-id-8 label.sk-toggleable__label {cursor: pointer;display: block;width: 100%;margin-bottom: 0;padding: 0.3em;box-sizing: border-box;text-align: center;}#sk-container-id-8 label.sk-toggleable__label-arrow:before {content: \"▸\";float: left;margin-right: 0.25em;color: #696969;}#sk-container-id-8 label.sk-toggleable__label-arrow:hover:before {color: black;}#sk-container-id-8 div.sk-estimator:hover label.sk-toggleable__label-arrow:before {color: black;}#sk-container-id-8 div.sk-toggleable__content {max-height: 0;max-width: 0;overflow: hidden;text-align: left;background-color: #f0f8ff;}#sk-container-id-8 div.sk-toggleable__content pre {margin: 0.2em;color: black;border-radius: 0.25em;background-color: #f0f8ff;}#sk-container-id-8 input.sk-toggleable__control:checked~div.sk-toggleable__content {max-height: 200px;max-width: 100%;overflow: auto;}#sk-container-id-8 input.sk-toggleable__control:checked~label.sk-toggleable__label-arrow:before {content: \"▾\";}#sk-container-id-8 div.sk-estimator input.sk-toggleable__control:checked~label.sk-toggleable__label {background-color: #d4ebff;}#sk-container-id-8 div.sk-label input.sk-toggleable__control:checked~label.sk-toggleable__label {background-color: #d4ebff;}#sk-container-id-8 input.sk-hidden--visually {border: 0;clip: rect(1px 1px 1px 1px);clip: rect(1px, 1px, 1px, 1px);height: 1px;margin: -1px;overflow: hidden;padding: 0;position: absolute;width: 1px;}#sk-container-id-8 div.sk-estimator {font-family: monospace;background-color: #f0f8ff;border: 1px dotted black;border-radius: 0.25em;box-sizing: border-box;margin-bottom: 0.5em;}#sk-container-id-8 div.sk-estimator:hover {background-color: #d4ebff;}#sk-container-id-8 div.sk-parallel-item::after {content: \"\";width: 100%;border-bottom: 1px solid gray;flex-grow: 1;}#sk-container-id-8 div.sk-label:hover label.sk-toggleable__label {background-color: #d4ebff;}#sk-container-id-8 div.sk-serial::before {content: \"\";position: absolute;border-left: 1px solid gray;box-sizing: border-box;top: 0;bottom: 0;left: 50%;z-index: 0;}#sk-container-id-8 div.sk-serial {display: flex;flex-direction: column;align-items: center;background-color: white;padding-right: 0.2em;padding-left: 0.2em;position: relative;}#sk-container-id-8 div.sk-item {position: relative;z-index: 1;}#sk-container-id-8 div.sk-parallel {display: flex;align-items: stretch;justify-content: center;background-color: white;position: relative;}#sk-container-id-8 div.sk-item::before, #sk-container-id-8 div.sk-parallel-item::before {content: \"\";position: absolute;border-left: 1px solid gray;box-sizing: border-box;top: 0;bottom: 0;left: 50%;z-index: -1;}#sk-container-id-8 div.sk-parallel-item {display: flex;flex-direction: column;z-index: 1;position: relative;background-color: white;}#sk-container-id-8 div.sk-parallel-item:first-child::after {align-self: flex-end;width: 50%;}#sk-container-id-8 div.sk-parallel-item:last-child::after {align-self: flex-start;width: 50%;}#sk-container-id-8 div.sk-parallel-item:only-child::after {width: 0;}#sk-container-id-8 div.sk-dashed-wrapped {border: 1px dashed gray;margin: 0 0.4em 0.5em 0.4em;box-sizing: border-box;padding-bottom: 0.4em;background-color: white;}#sk-container-id-8 div.sk-label label {font-family: monospace;font-weight: bold;display: inline-block;line-height: 1.2em;}#sk-container-id-8 div.sk-label-container {text-align: center;}#sk-container-id-8 div.sk-container {/* jupyter's `normalize.less` sets `[hidden] { display: none; }` but bootstrap.min.css set `[hidden] { display: none !important; }` so we also need the `!important` here to be able to override the default hidden behavior on the sphinx rendered scikit-learn.org. See: https://github.com/scikit-learn/scikit-learn/issues/21755 */display: inline-block !important;position: relative;}#sk-container-id-8 div.sk-text-repr-fallback {display: none;}</style><div id=\"sk-container-id-8\" class=\"sk-top-container\"><div class=\"sk-text-repr-fallback\"><pre>RandomForestClassifier()</pre><b>In a Jupyter environment, please rerun this cell to show the HTML representation or trust the notebook. <br />On GitHub, the HTML representation is unable to render, please try loading this page with nbviewer.org.</b></div><div class=\"sk-container\" hidden><div class=\"sk-item\"><div class=\"sk-estimator sk-toggleable\"><input class=\"sk-toggleable__control sk-hidden--visually\" id=\"sk-estimator-id-8\" type=\"checkbox\" checked><label for=\"sk-estimator-id-8\" class=\"sk-toggleable__label sk-toggleable__label-arrow\">RandomForestClassifier</label><div class=\"sk-toggleable__content\"><pre>RandomForestClassifier()</pre></div></div></div></div></div>"
      ],
      "text/plain": [
       "RandomForestClassifier()"
      ]
     },
     "execution_count": 83,
     "metadata": {},
     "output_type": "execute_result"
    }
   ],
   "source": [
    "from sklearn.ensemble import RandomForestClassifier\n",
    "\n",
    "rf = RandomForestClassifier()\n",
    "rf.fit(X_train, Y_train)"
   ]
  },
  {
   "cell_type": "code",
   "execution_count": 84,
   "id": "e304205d",
   "metadata": {},
   "outputs": [
    {
     "data": {
      "text/plain": [
       "('Random Forest Accuracy:', 76.8)"
      ]
     },
     "execution_count": 84,
     "metadata": {},
     "output_type": "execute_result"
    }
   ],
   "source": [
    "Y_pred_rf = rf.predict(X_test)\n",
    "\"Random Forest Accuracy:\", accuracy_score(Y_test, Y_pred_rf)*100"
   ]
  },
  {
   "cell_type": "code",
   "execution_count": 85,
   "id": "ad2b06ed",
   "metadata": {},
   "outputs": [
    {
     "name": "stderr",
     "output_type": "stream",
     "text": [
      "/home/saksham/anaconda3/lib/python3.11/site-packages/sklearn/metrics/_classification.py:1471: UndefinedMetricWarning: Precision and F-score are ill-defined and being set to 0.0 in labels with no predicted samples. Use `zero_division` parameter to control this behavior.\n",
      "  _warn_prf(average, modifier, msg_start, len(result))\n",
      "/home/saksham/anaconda3/lib/python3.11/site-packages/sklearn/metrics/_classification.py:1471: UndefinedMetricWarning: Precision and F-score are ill-defined and being set to 0.0 in labels with no predicted samples. Use `zero_division` parameter to control this behavior.\n",
      "  _warn_prf(average, modifier, msg_start, len(result))\n",
      "/home/saksham/anaconda3/lib/python3.11/site-packages/sklearn/metrics/_classification.py:1471: UndefinedMetricWarning: Precision and F-score are ill-defined and being set to 0.0 in labels with no predicted samples. Use `zero_division` parameter to control this behavior.\n",
      "  _warn_prf(average, modifier, msg_start, len(result))\n"
     ]
    },
    {
     "data": {
      "text/plain": [
       "('Random Forest Confusion Matrix:',\n",
       " array([[  0,   0,  29,   1],\n",
       "        [  0,   0,   9,   3],\n",
       "        [  2,   0, 762,  16],\n",
       "        [  0,   0, 172,   6]]))"
      ]
     },
     "execution_count": 85,
     "metadata": {},
     "output_type": "execute_result"
    }
   ],
   "source": [
    "\"Random Forest Classification Report:\", classification_report(Y_test, Y_pred_rf)\n",
    "\"Random Forest Confusion Matrix:\", confusion_matrix(Y_test, Y_pred_rf)"
   ]
  },
  {
   "cell_type": "code",
   "execution_count": 86,
   "id": "0df2028c",
   "metadata": {},
   "outputs": [],
   "source": [
    "from tensorflow.keras.models import Sequential\n",
    "from tensorflow.keras.layers import Dense"
   ]
  },
  {
   "cell_type": "code",
   "execution_count": 87,
   "id": "0bd4cf48",
   "metadata": {},
   "outputs": [
    {
     "name": "stderr",
     "output_type": "stream",
     "text": [
      "/home/saksham/anaconda3/lib/python3.11/site-packages/keras/src/layers/core/dense.py:87: UserWarning: Do not pass an `input_shape`/`input_dim` argument to a layer. When using Sequential models, prefer using an `Input(shape)` object as the first layer in the model instead.\n",
      "  super().__init__(activity_regularizer=activity_regularizer, **kwargs)\n"
     ]
    }
   ],
   "source": [
    "dnn_model = Sequential()\n",
    "dnn_model.add(Dense(64, input_dim = X_train.shape[1], activation='relu'))\n",
    "dnn_model.add(Dense(64, activation = \"relu\"))\n",
    "dnn_model.add(Dense(6, activation=\"softmax\"))"
   ]
  },
  {
   "cell_type": "code",
   "execution_count": 88,
   "id": "74830112",
   "metadata": {
    "scrolled": false
   },
   "outputs": [
    {
     "name": "stdout",
     "output_type": "stream",
     "text": [
      "Epoch 1/50\n",
      "\u001b[1m500/500\u001b[0m \u001b[32m━━━━━━━━━━━━━━━━━━━━\u001b[0m\u001b[37m\u001b[0m \u001b[1m1s\u001b[0m 1ms/step - accuracy: 0.7407 - loss: 0.8681\n",
      "Epoch 2/50\n",
      "\u001b[1m500/500\u001b[0m \u001b[32m━━━━━━━━━━━━━━━━━━━━\u001b[0m\u001b[37m\u001b[0m \u001b[1m1s\u001b[0m 975us/step - accuracy: 0.7724 - loss: 0.6526\n",
      "Epoch 3/50\n",
      "\u001b[1m500/500\u001b[0m \u001b[32m━━━━━━━━━━━━━━━━━━━━\u001b[0m\u001b[37m\u001b[0m \u001b[1m1s\u001b[0m 988us/step - accuracy: 0.7683 - loss: 0.6672\n",
      "Epoch 4/50\n",
      "\u001b[1m500/500\u001b[0m \u001b[32m━━━━━━━━━━━━━━━━━━━━\u001b[0m\u001b[37m\u001b[0m \u001b[1m1s\u001b[0m 980us/step - accuracy: 0.7670 - loss: 0.6520\n",
      "Epoch 5/50\n",
      "\u001b[1m500/500\u001b[0m \u001b[32m━━━━━━━━━━━━━━━━━━━━\u001b[0m\u001b[37m\u001b[0m \u001b[1m1s\u001b[0m 967us/step - accuracy: 0.7689 - loss: 0.6537\n",
      "Epoch 6/50\n",
      "\u001b[1m500/500\u001b[0m \u001b[32m━━━━━━━━━━━━━━━━━━━━\u001b[0m\u001b[37m\u001b[0m \u001b[1m1s\u001b[0m 1ms/step - accuracy: 0.7673 - loss: 0.6413\n",
      "Epoch 7/50\n",
      "\u001b[1m500/500\u001b[0m \u001b[32m━━━━━━━━━━━━━━━━━━━━\u001b[0m\u001b[37m\u001b[0m \u001b[1m1s\u001b[0m 1ms/step - accuracy: 0.7749 - loss: 0.6362\n",
      "Epoch 8/50\n",
      "\u001b[1m500/500\u001b[0m \u001b[32m━━━━━━━━━━━━━━━━━━━━\u001b[0m\u001b[37m\u001b[0m \u001b[1m1s\u001b[0m 996us/step - accuracy: 0.7705 - loss: 0.6353\n",
      "Epoch 9/50\n",
      "\u001b[1m500/500\u001b[0m \u001b[32m━━━━━━━━━━━━━━━━━━━━\u001b[0m\u001b[37m\u001b[0m \u001b[1m1s\u001b[0m 979us/step - accuracy: 0.7732 - loss: 0.6200\n",
      "Epoch 10/50\n",
      "\u001b[1m500/500\u001b[0m \u001b[32m━━━━━━━━━━━━━━━━━━━━\u001b[0m\u001b[37m\u001b[0m \u001b[1m0s\u001b[0m 946us/step - accuracy: 0.7729 - loss: 0.6288\n",
      "Epoch 11/50\n",
      "\u001b[1m500/500\u001b[0m \u001b[32m━━━━━━━━━━━━━━━━━━━━\u001b[0m\u001b[37m\u001b[0m \u001b[1m1s\u001b[0m 1ms/step - accuracy: 0.7714 - loss: 0.6489\n",
      "Epoch 12/50\n",
      "\u001b[1m500/500\u001b[0m \u001b[32m━━━━━━━━━━━━━━━━━━━━\u001b[0m\u001b[37m\u001b[0m \u001b[1m1s\u001b[0m 1ms/step - accuracy: 0.7775 - loss: 0.6214\n",
      "Epoch 13/50\n",
      "\u001b[1m500/500\u001b[0m \u001b[32m━━━━━━━━━━━━━━━━━━━━\u001b[0m\u001b[37m\u001b[0m \u001b[1m1s\u001b[0m 1ms/step - accuracy: 0.7753 - loss: 0.6221\n",
      "Epoch 14/50\n",
      "\u001b[1m500/500\u001b[0m \u001b[32m━━━━━━━━━━━━━━━━━━━━\u001b[0m\u001b[37m\u001b[0m \u001b[1m1s\u001b[0m 991us/step - accuracy: 0.7681 - loss: 0.6339\n",
      "Epoch 15/50\n",
      "\u001b[1m500/500\u001b[0m \u001b[32m━━━━━━━━━━━━━━━━━━━━\u001b[0m\u001b[37m\u001b[0m \u001b[1m1s\u001b[0m 1000us/step - accuracy: 0.7760 - loss: 0.6306\n",
      "Epoch 16/50\n",
      "\u001b[1m500/500\u001b[0m \u001b[32m━━━━━━━━━━━━━━━━━━━━\u001b[0m\u001b[37m\u001b[0m \u001b[1m1s\u001b[0m 1ms/step - accuracy: 0.7679 - loss: 0.6318\n",
      "Epoch 17/50\n",
      "\u001b[1m500/500\u001b[0m \u001b[32m━━━━━━━━━━━━━━━━━━━━\u001b[0m\u001b[37m\u001b[0m \u001b[1m1s\u001b[0m 1ms/step - accuracy: 0.7866 - loss: 0.5998\n",
      "Epoch 18/50\n",
      "\u001b[1m500/500\u001b[0m \u001b[32m━━━━━━━━━━━━━━━━━━━━\u001b[0m\u001b[37m\u001b[0m \u001b[1m1s\u001b[0m 1ms/step - accuracy: 0.7734 - loss: 0.6241\n",
      "Epoch 19/50\n",
      "\u001b[1m500/500\u001b[0m \u001b[32m━━━━━━━━━━━━━━━━━━━━\u001b[0m\u001b[37m\u001b[0m \u001b[1m1s\u001b[0m 990us/step - accuracy: 0.7730 - loss: 0.6267\n",
      "Epoch 20/50\n",
      "\u001b[1m500/500\u001b[0m \u001b[32m━━━━━━━━━━━━━━━━━━━━\u001b[0m\u001b[37m\u001b[0m \u001b[1m1s\u001b[0m 986us/step - accuracy: 0.7762 - loss: 0.6149\n",
      "Epoch 21/50\n",
      "\u001b[1m500/500\u001b[0m \u001b[32m━━━━━━━━━━━━━━━━━━━━\u001b[0m\u001b[37m\u001b[0m \u001b[1m1s\u001b[0m 989us/step - accuracy: 0.7604 - loss: 0.6361\n",
      "Epoch 22/50\n",
      "\u001b[1m500/500\u001b[0m \u001b[32m━━━━━━━━━━━━━━━━━━━━\u001b[0m\u001b[37m\u001b[0m \u001b[1m1s\u001b[0m 990us/step - accuracy: 0.7780 - loss: 0.6112\n",
      "Epoch 23/50\n",
      "\u001b[1m500/500\u001b[0m \u001b[32m━━━━━━━━━━━━━━━━━━━━\u001b[0m\u001b[37m\u001b[0m \u001b[1m1s\u001b[0m 997us/step - accuracy: 0.7603 - loss: 0.6304\n",
      "Epoch 24/50\n",
      "\u001b[1m500/500\u001b[0m \u001b[32m━━━━━━━━━━━━━━━━━━━━\u001b[0m\u001b[37m\u001b[0m \u001b[1m1s\u001b[0m 982us/step - accuracy: 0.7682 - loss: 0.6151\n",
      "Epoch 25/50\n",
      "\u001b[1m500/500\u001b[0m \u001b[32m━━━━━━━━━━━━━━━━━━━━\u001b[0m\u001b[37m\u001b[0m \u001b[1m1s\u001b[0m 993us/step - accuracy: 0.7669 - loss: 0.6243\n",
      "Epoch 26/50\n",
      "\u001b[1m500/500\u001b[0m \u001b[32m━━━━━━━━━━━━━━━━━━━━\u001b[0m\u001b[37m\u001b[0m \u001b[1m1s\u001b[0m 992us/step - accuracy: 0.7610 - loss: 0.6358\n",
      "Epoch 27/50\n",
      "\u001b[1m500/500\u001b[0m \u001b[32m━━━━━━━━━━━━━━━━━━━━\u001b[0m\u001b[37m\u001b[0m \u001b[1m1s\u001b[0m 987us/step - accuracy: 0.7676 - loss: 0.6066\n",
      "Epoch 28/50\n",
      "\u001b[1m500/500\u001b[0m \u001b[32m━━━━━━━━━━━━━━━━━━━━\u001b[0m\u001b[37m\u001b[0m \u001b[1m1s\u001b[0m 986us/step - accuracy: 0.7690 - loss: 0.6148\n",
      "Epoch 29/50\n",
      "\u001b[1m500/500\u001b[0m \u001b[32m━━━━━━━━━━━━━━━━━━━━\u001b[0m\u001b[37m\u001b[0m \u001b[1m1s\u001b[0m 980us/step - accuracy: 0.7783 - loss: 0.5915\n",
      "Epoch 30/50\n",
      "\u001b[1m500/500\u001b[0m \u001b[32m━━━━━━━━━━━━━━━━━━━━\u001b[0m\u001b[37m\u001b[0m \u001b[1m1s\u001b[0m 986us/step - accuracy: 0.7572 - loss: 0.6427\n",
      "Epoch 31/50\n",
      "\u001b[1m500/500\u001b[0m \u001b[32m━━━━━━━━━━━━━━━━━━━━\u001b[0m\u001b[37m\u001b[0m \u001b[1m0s\u001b[0m 896us/step - accuracy: 0.7702 - loss: 0.6205\n",
      "Epoch 32/50\n",
      "\u001b[1m500/500\u001b[0m \u001b[32m━━━━━━━━━━━━━━━━━━━━\u001b[0m\u001b[37m\u001b[0m \u001b[1m0s\u001b[0m 943us/step - accuracy: 0.7744 - loss: 0.5992\n",
      "Epoch 33/50\n",
      "\u001b[1m500/500\u001b[0m \u001b[32m━━━━━━━━━━━━━━━━━━━━\u001b[0m\u001b[37m\u001b[0m \u001b[1m0s\u001b[0m 812us/step - accuracy: 0.7626 - loss: 0.6071\n",
      "Epoch 34/50\n",
      "\u001b[1m500/500\u001b[0m \u001b[32m━━━━━━━━━━━━━━━━━━━━\u001b[0m\u001b[37m\u001b[0m \u001b[1m0s\u001b[0m 934us/step - accuracy: 0.7766 - loss: 0.6024\n",
      "Epoch 35/50\n",
      "\u001b[1m500/500\u001b[0m \u001b[32m━━━━━━━━━━━━━━━━━━━━\u001b[0m\u001b[37m\u001b[0m \u001b[1m1s\u001b[0m 967us/step - accuracy: 0.7744 - loss: 0.6018\n",
      "Epoch 36/50\n",
      "\u001b[1m500/500\u001b[0m \u001b[32m━━━━━━━━━━━━━━━━━━━━\u001b[0m\u001b[37m\u001b[0m \u001b[1m1s\u001b[0m 982us/step - accuracy: 0.7664 - loss: 0.6103\n",
      "Epoch 37/50\n",
      "\u001b[1m500/500\u001b[0m \u001b[32m━━━━━━━━━━━━━━━━━━━━\u001b[0m\u001b[37m\u001b[0m \u001b[1m1s\u001b[0m 991us/step - accuracy: 0.7650 - loss: 0.6155\n",
      "Epoch 38/50\n",
      "\u001b[1m500/500\u001b[0m \u001b[32m━━━━━━━━━━━━━━━━━━━━\u001b[0m\u001b[37m\u001b[0m \u001b[1m1s\u001b[0m 975us/step - accuracy: 0.7695 - loss: 0.5917\n",
      "Epoch 39/50\n",
      "\u001b[1m500/500\u001b[0m \u001b[32m━━━━━━━━━━━━━━━━━━━━\u001b[0m\u001b[37m\u001b[0m \u001b[1m1s\u001b[0m 988us/step - accuracy: 0.7710 - loss: 0.6107\n",
      "Epoch 40/50\n",
      "\u001b[1m500/500\u001b[0m \u001b[32m━━━━━━━━━━━━━━━━━━━━\u001b[0m\u001b[37m\u001b[0m \u001b[1m1s\u001b[0m 985us/step - accuracy: 0.7588 - loss: 0.6135\n",
      "Epoch 41/50\n",
      "\u001b[1m500/500\u001b[0m \u001b[32m━━━━━━━━━━━━━━━━━━━━\u001b[0m\u001b[37m\u001b[0m \u001b[1m1s\u001b[0m 987us/step - accuracy: 0.7630 - loss: 0.6243\n",
      "Epoch 42/50\n",
      "\u001b[1m500/500\u001b[0m \u001b[32m━━━━━━━━━━━━━━━━━━━━\u001b[0m\u001b[37m\u001b[0m \u001b[1m1s\u001b[0m 1ms/step - accuracy: 0.7776 - loss: 0.5911  \n",
      "Epoch 43/50\n",
      "\u001b[1m500/500\u001b[0m \u001b[32m━━━━━━━━━━━━━━━━━━━━\u001b[0m\u001b[37m\u001b[0m \u001b[1m1s\u001b[0m 1ms/step - accuracy: 0.7714 - loss: 0.5977\n",
      "Epoch 44/50\n",
      "\u001b[1m500/500\u001b[0m \u001b[32m━━━━━━━━━━━━━━━━━━━━\u001b[0m\u001b[37m\u001b[0m \u001b[1m1s\u001b[0m 999us/step - accuracy: 0.7658 - loss: 0.6027\n",
      "Epoch 45/50\n",
      "\u001b[1m500/500\u001b[0m \u001b[32m━━━━━━━━━━━━━━━━━━━━\u001b[0m\u001b[37m\u001b[0m \u001b[1m1s\u001b[0m 984us/step - accuracy: 0.7719 - loss: 0.6002\n",
      "Epoch 46/50\n",
      "\u001b[1m500/500\u001b[0m \u001b[32m━━━━━━━━━━━━━━━━━━━━\u001b[0m\u001b[37m\u001b[0m \u001b[1m1s\u001b[0m 985us/step - accuracy: 0.7648 - loss: 0.5984\n",
      "Epoch 47/50\n",
      "\u001b[1m500/500\u001b[0m \u001b[32m━━━━━━━━━━━━━━━━━━━━\u001b[0m\u001b[37m\u001b[0m \u001b[1m1s\u001b[0m 989us/step - accuracy: 0.7632 - loss: 0.5999\n",
      "Epoch 48/50\n",
      "\u001b[1m500/500\u001b[0m \u001b[32m━━━━━━━━━━━━━━━━━━━━\u001b[0m\u001b[37m\u001b[0m \u001b[1m1s\u001b[0m 989us/step - accuracy: 0.7681 - loss: 0.6045\n",
      "Epoch 49/50\n",
      "\u001b[1m500/500\u001b[0m \u001b[32m━━━━━━━━━━━━━━━━━━━━\u001b[0m\u001b[37m\u001b[0m \u001b[1m1s\u001b[0m 996us/step - accuracy: 0.7663 - loss: 0.6031\n",
      "Epoch 50/50\n",
      "\u001b[1m500/500\u001b[0m \u001b[32m━━━━━━━━━━━━━━━━━━━━\u001b[0m\u001b[37m\u001b[0m \u001b[1m1s\u001b[0m 987us/step - accuracy: 0.7690 - loss: 0.5988\n"
     ]
    },
    {
     "data": {
      "text/plain": [
       "<keras.src.callbacks.history.History at 0x7553b0179210>"
      ]
     },
     "execution_count": 88,
     "metadata": {},
     "output_type": "execute_result"
    }
   ],
   "source": [
    "dnn_model.compile(loss = 'sparse_categorical_crossentropy', optimizer = \"adam\", metrics = ['accuracy'])\n",
    "dnn_model.fit(X_train,Y_train, epochs = 50, batch_size = 8, verbose = 1)"
   ]
  },
  {
   "cell_type": "code",
   "execution_count": 89,
   "id": "9e47abec",
   "metadata": {
    "scrolled": false
   },
   "outputs": [
    {
     "name": "stdout",
     "output_type": "stream",
     "text": [
      "\u001b[1m32/32\u001b[0m \u001b[32m━━━━━━━━━━━━━━━━━━━━\u001b[0m\u001b[37m\u001b[0m \u001b[1m0s\u001b[0m 2ms/step\n"
     ]
    },
    {
     "data": {
      "text/plain": [
       "('DNN Accuracy:', 77.9)"
      ]
     },
     "execution_count": 89,
     "metadata": {},
     "output_type": "execute_result"
    }
   ],
   "source": [
    "Y_pred_dnn = dnn_model.predict(X_test)\n",
    "Y_pred_dnn_classes = np.argmax(Y_pred_dnn, axis = 1)\n",
    "\"DNN Accuracy:\", accuracy_score(Y_test, Y_pred_dnn_classes)*100"
   ]
  },
  {
   "cell_type": "code",
   "execution_count": 90,
   "id": "75bc2dc0",
   "metadata": {},
   "outputs": [
    {
     "name": "stderr",
     "output_type": "stream",
     "text": [
      "/home/saksham/anaconda3/lib/python3.11/site-packages/sklearn/metrics/_classification.py:1471: UndefinedMetricWarning: Precision and F-score are ill-defined and being set to 0.0 in labels with no predicted samples. Use `zero_division` parameter to control this behavior.\n",
      "  _warn_prf(average, modifier, msg_start, len(result))\n",
      "/home/saksham/anaconda3/lib/python3.11/site-packages/sklearn/metrics/_classification.py:1471: UndefinedMetricWarning: Precision and F-score are ill-defined and being set to 0.0 in labels with no predicted samples. Use `zero_division` parameter to control this behavior.\n",
      "  _warn_prf(average, modifier, msg_start, len(result))\n",
      "/home/saksham/anaconda3/lib/python3.11/site-packages/sklearn/metrics/_classification.py:1471: UndefinedMetricWarning: Precision and F-score are ill-defined and being set to 0.0 in labels with no predicted samples. Use `zero_division` parameter to control this behavior.\n",
      "  _warn_prf(average, modifier, msg_start, len(result))\n"
     ]
    },
    {
     "data": {
      "text/plain": [
       "('DNN Confusion Matrix:',\n",
       " array([[  0,   0,  28,   2],\n",
       "        [  0,   0,  12,   0],\n",
       "        [  0,   0, 776,   4],\n",
       "        [  0,   0, 175,   3]]))"
      ]
     },
     "execution_count": 90,
     "metadata": {},
     "output_type": "execute_result"
    }
   ],
   "source": [
    "\"DNN Classification Report:\", classification_report(Y_test, Y_pred_dnn_classes)\n",
    "\"DNN Confusion Matrix:\", confusion_matrix(Y_test, Y_pred_dnn_classes)"
   ]
  },
  {
   "cell_type": "code",
   "execution_count": 91,
   "id": "d00b3bda",
   "metadata": {},
   "outputs": [],
   "source": [
    "import matplotlib.pyplot as plt"
   ]
  },
  {
   "cell_type": "code",
   "execution_count": 92,
   "id": "71e7e4c0",
   "metadata": {
    "scrolled": false
   },
   "outputs": [
    {
     "data": {
      "image/png": "[encoded data removed]",
      "text/plain": [
       "<Figure size 1000x1500 with 5 Axes>"
      ]
     },
     "metadata": {},
     "output_type": "display_data"
    }
   ],
   "source": [
    "fig, axs = plt.subplots(5, 1, figsize=(10, 15), sharex=True)\n",
    "\n",
    "axs[0].plot(data.index, data['EEG_Alpha'])\n",
    "axs[0].set_title('EEG Alpha')\n",
    "axs[0].set_ylabel('Amplitude (µV)')\n",
    "\n",
    "axs[1].plot(data.index, data['EEG_Beta'])\n",
    "axs[1].set_title('EEG Beta')\n",
    "axs[1].set_ylabel('Amplitude (µV)')\n",
    "\n",
    "axs[2].plot(data.index, data['EEG_Theta'])\n",
    "axs[2].set_title('EEG Theta')\n",
    "axs[2].set_ylabel('Amplitude (µV)')\n",
    "\n",
    "axs[3].plot(data.index, data['HR'])\n",
    "axs[3].set_title('Heart Rate (HR)')\n",
    "axs[3].set_ylabel('BPM')\n",
    "\n",
    "axs[4].plot(data.index, data['GSR'])\n",
    "axs[4].set_title('Galvanic Skin Response (GSR)')\n",
    "axs[4].set_ylabel('Conductance (µS)')\n",
    "axs[4].set_xlabel('Sample')\n",
    "\n",
    "plt.tight_layout()\n",
    "plt.show()\n"
   ]
  },
  {
   "cell_type": "code",
   "execution_count": 93,
   "id": "0c30424b",
   "metadata": {},
   "outputs": [],
   "source": [
    "import joblib\n",
    "import tensorflow as tf"
   ]
  },
  {
   "cell_type": "code",
   "execution_count": 94,
   "id": "2cd754d4",
   "metadata": {},
   "outputs": [
    {
     "name": "stderr",
     "output_type": "stream",
     "text": [
      "WARNING:absl:You are saving your model as an HDF5 file via `model.save()` or `keras.saving.save_model(model)`. This file format is considered legacy. We recommend using instead the native Keras format, e.g. `model.save('my_model.keras')` or `keras.saving.save_model(model, 'my_model.keras')`. \n"
     ]
    }
   ],
   "source": [
    "joblib.dump(svc, 'svc_model.joblib')\n",
    "joblib.dump(knn, 'knn_model.joblib')\n",
    "joblib.dump(lda, 'lda_model.joblib')\n",
    "joblib.dump(rf, 'rf_model.joblib')\n",
    "dnn_model.save('dnn_model.h5')"
   ]
  },
  {
   "cell_type": "code",
   "execution_count": 40,
   "id": "2d964b94",
   "metadata": {
    "scrolled": true
   },
   "outputs": [
    {
     "name": "stderr",
     "output_type": "stream",
     "text": [
      "WARNING:absl:Compiled the loaded model, but the compiled metrics have yet to be built. `model.compile_metrics` will be empty until you train or evaluate the model.\n"
     ]
    }
   ],
   "source": [
    "svc = joblib.load('svc_model.joblib')\n",
    "knn = joblib.load('knn_model.joblib')\n",
    "lda = joblib.load('lda_model.joblib')\n",
    "rf = joblib.load('rf_model.joblib')\n",
    "dnn_model = tf.keras.models.load_model('dnn_model.h5')"
   ]
  },
  {
   "cell_type": "code",
   "execution_count": 49,
   "id": "226d1e4e",
   "metadata": {},
   "outputs": [],
   "source": [
    "new_data = {\n",
    "    'EEG_Alpha': 92.436781,  \n",
    "    'EEG_Beta': 22.123740,   \n",
    "    'EEG_Theta': 35.215227,  \n",
    "    'GSR': 0.104018,        \n",
    "    'HR': 74           \n",
    "}\n",
    "new_input_df = pd.DataFrame([new_data])\n",
    "\n",
    "new_input_df[features] = scaler.transform(new_input_df[features])"
   ]
  },
  {
   "cell_type": "code",
   "execution_count": 50,
   "id": "8b2a1a8a",
   "metadata": {},
   "outputs": [
    {
     "name": "stdout",
     "output_type": "stream",
     "text": [
      "\u001b[1m1/1\u001b[0m \u001b[32m━━━━━━━━━━━━━━━━━━━━\u001b[0m\u001b[37m\u001b[0m \u001b[1m0s\u001b[0m 15ms/step\n"
     ]
    },
    {
     "name": "stderr",
     "output_type": "stream",
     "text": [
      "/home/saksham/anaconda3/lib/python3.11/site-packages/sklearn/base.py:458: UserWarning: X has feature names, but SVC was fitted without feature names\n",
      "  warnings.warn(\n",
      "/home/saksham/anaconda3/lib/python3.11/site-packages/sklearn/base.py:458: UserWarning: X has feature names, but KNeighborsClassifier was fitted without feature names\n",
      "  warnings.warn(\n",
      "/home/saksham/anaconda3/lib/python3.11/site-packages/sklearn/base.py:458: UserWarning: X has feature names, but LinearDiscriminantAnalysis was fitted without feature names\n",
      "  warnings.warn(\n",
      "/home/saksham/anaconda3/lib/python3.11/site-packages/sklearn/base.py:458: UserWarning: X has feature names, but RandomForestClassifier was fitted without feature names\n",
      "  warnings.warn(\n"
     ]
    }
   ],
   "source": [
    "svm_prediction = svc.predict(new_input_df[features])\n",
    "knn_prediction = knn.predict(new_input_df[features])\n",
    "lda_prediction = lda.predict(new_input_df[features])\n",
    "rf_prediction = rf.predict(new_input_df[features])\n",
    "dnn_prediction = dnn_model.predict(new_input_df[features])\n",
    "dnn_prediction_class = np.argmax(dnn_prediction, axis=1)"
   ]
  },
  {
   "cell_type": "code",
   "execution_count": 51,
   "id": "6f235979",
   "metadata": {},
   "outputs": [
    {
     "name": "stdout",
     "output_type": "stream",
     "text": [
      "SVM Prediction: [2]\n",
      "kNN Prediction: [2]\n",
      "LDA Prediction: [2]\n",
      "Random Forest Prediction: [2]\n",
      "DNN Prediction: [[1.0871410e-04 2.0334467e-11 8.6218053e-01 1.3771068e-01 1.3840467e-20\n",
      "  1.5748113e-20]]\n"
     ]
    }
   ],
   "source": [
    "print(f\"SVM Prediction: {svm_prediction}\")\n",
    "print(f\"kNN Prediction: {knn_prediction}\")\n",
    "print(f\"LDA Prediction: {lda_prediction}\")\n",
    "print(f\"Random Forest Prediction: {rf_prediction}\")\n",
    "print(f\"DNN Prediction: {dnn_prediction}\")"
   ]
  },
  {
   "cell_type": "code",
   "execution_count": 52,
   "id": "70329996",
   "metadata": {},
   "outputs": [],
   "source": [
    "fear_level_map = {0: 'No Fear', 1: 'Low Fear', 2: 'Moderate Fear', 3: 'High Fear'}"
   ]
  },
  {
   "cell_type": "code",
   "execution_count": 53,
   "id": "0b9abb01",
   "metadata": {},
   "outputs": [],
   "source": [
    "svm_prediction_desc = fear_level_map[svm_prediction[0]]\n",
    "knn_prediction_desc = fear_level_map[knn_prediction[0]]\n",
    "lda_prediction_desc = fear_level_map[lda_prediction[0]]\n",
    "rf_prediction_desc = fear_level_map[rf_prediction[0]]\n",
    "dnn_prediction_desc = fear_level_map[dnn_prediction_class[0]]"
   ]
  },
  {
   "cell_type": "code",
   "execution_count": 54,
   "id": "d2d17f86",
   "metadata": {},
   "outputs": [
    {
     "name": "stdout",
     "output_type": "stream",
     "text": [
      "SVM Prediction: Moderate Fear\n",
      "kNN Prediction: Moderate Fear\n",
      "LDA Prediction: Moderate Fear\n",
      "Random Forest Prediction: Moderate Fear\n",
      "DNN Prediction: Moderate Fear\n"
     ]
    }
   ],
   "source": [
    "print(f\"SVM Prediction: {svm_prediction_desc}\")\n",
    "print(f\"kNN Prediction: {knn_prediction_desc}\")\n",
    "print(f\"LDA Prediction: {lda_prediction_desc}\")\n",
    "print(f\"Random Forest Prediction: {rf_prediction_desc}\")\n",
    "print(f\"DNN Prediction: {dnn_prediction_desc}\")"
   ]
  },
  {
   "cell_type": "code",
   "execution_count": 41,
   "id": "b3b2f4e4",
   "metadata": {},
   "outputs": [
    {
     "data": {
      "text/plain": [
       "1501    2\n",
       "2586    2\n",
       "2653    2\n",
       "1055    2\n",
       "705     2\n",
       "       ..\n",
       "4711    2\n",
       "2313    2\n",
       "3214    2\n",
       "2732    2\n",
       "1926    3\n",
       "Name: Fear_Level, Length: 1000, dtype: int64"
      ]
     },
     "execution_count": 41,
     "metadata": {},
     "output_type": "execute_result"
    }
   ],
   "source": [
    "Y_test"
   ]
  },
  {
   "cell_type": "code",
   "execution_count": 42,
   "id": "3cbe6dad",
   "metadata": {},
   "outputs": [
    {
     "data": {
      "text/plain": [
       "array([[ 1.85640677, -1.04907986, -1.75122884, -0.2366589 , -1.36353576],\n",
       "       [-0.15199188, -0.54612452, -0.77163591,  0.17950529, -0.24133029],\n",
       "       [-0.84772187,  1.75411039, -1.75122884,  1.03572916,  0.31977245],\n",
       "       ...,\n",
       "       [-0.55481884,  1.07434866,  0.41667825,  0.21800633, -1.36353576],\n",
       "       [ 1.43358521,  0.94912003,  0.06129845,  0.57888273, -0.91465357],\n",
       "       [-1.73226841,  0.68466087, -1.38169418, -1.23447836, -1.13909467]])"
      ]
     },
     "execution_count": 42,
     "metadata": {},
     "output_type": "execute_result"
    }
   ],
   "source": [
    "X_test"
   ]
  },
  {
   "cell_type": "code",
   "execution_count": null,
   "id": "5464a0e4",
   "metadata": {},
   "outputs": [],
   "source": []
  }
 ],
 "metadata": {
  "kernelspec": {
   "display_name": "Python 3 (ipykernel)",
   "language": "python",
   "name": "python3"
  },
  "language_info": {
   "codemirror_mode": {
    "name": "ipython",
    "version": 3
   },
   "file_extension": ".py",
   "mimetype": "text/x-python",
   "name": "python",
   "nbconvert_exporter": "python",
   "pygments_lexer": "ipython3",
   "version": "3.11.5"
  }
 },
 "nbformat": 4,
 "nbformat_minor": 5
}
